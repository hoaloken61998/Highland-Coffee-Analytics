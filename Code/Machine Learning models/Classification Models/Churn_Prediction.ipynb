{
  "nbformat": 4,
  "nbformat_minor": 0,
  "metadata": {
    "colab": {
      "provenance": [],
      "toc_visible": true
    },
    "kernelspec": {
      "name": "python3",
      "display_name": "Python 3"
    },
    "language_info": {
      "name": "python"
    }
  },
  "cells": [
    {
      "cell_type": "markdown",
      "source": [
        "# Importing Libraries"
      ],
      "metadata": {
        "id": "SsELl1mvdCt9"
      }
    },
    {
      "cell_type": "code",
      "metadata": {
        "id": "d44aba58",
        "outputId": "873c0575-2ed6-4587-e976-d2fa3d6e7bc8",
        "colab": {
          "base_uri": "https://localhost:8080/"
        }
      },
      "source": [
        "%pip install category_encoders"
      ],
      "execution_count": null,
      "outputs": [
        {
          "output_type": "stream",
          "name": "stdout",
          "text": [
            "Collecting category_encoders\n",
            "  Downloading category_encoders-2.8.1-py3-none-any.whl.metadata (7.9 kB)\n",
            "Requirement already satisfied: numpy>=1.14.0 in /usr/local/lib/python3.12/dist-packages (from category_encoders) (2.0.2)\n",
            "Requirement already satisfied: pandas>=1.0.5 in /usr/local/lib/python3.12/dist-packages (from category_encoders) (2.2.2)\n",
            "Requirement already satisfied: patsy>=0.5.1 in /usr/local/lib/python3.12/dist-packages (from category_encoders) (1.0.1)\n",
            "Requirement already satisfied: scikit-learn>=1.6.0 in /usr/local/lib/python3.12/dist-packages (from category_encoders) (1.6.1)\n",
            "Requirement already satisfied: scipy>=1.0.0 in /usr/local/lib/python3.12/dist-packages (from category_encoders) (1.16.2)\n",
            "Requirement already satisfied: statsmodels>=0.9.0 in /usr/local/lib/python3.12/dist-packages (from category_encoders) (0.14.5)\n",
            "Requirement already satisfied: python-dateutil>=2.8.2 in /usr/local/lib/python3.12/dist-packages (from pandas>=1.0.5->category_encoders) (2.9.0.post0)\n",
            "Requirement already satisfied: pytz>=2020.1 in /usr/local/lib/python3.12/dist-packages (from pandas>=1.0.5->category_encoders) (2025.2)\n",
            "Requirement already satisfied: tzdata>=2022.7 in /usr/local/lib/python3.12/dist-packages (from pandas>=1.0.5->category_encoders) (2025.2)\n",
            "Requirement already satisfied: joblib>=1.2.0 in /usr/local/lib/python3.12/dist-packages (from scikit-learn>=1.6.0->category_encoders) (1.5.2)\n",
            "Requirement already satisfied: threadpoolctl>=3.1.0 in /usr/local/lib/python3.12/dist-packages (from scikit-learn>=1.6.0->category_encoders) (3.6.0)\n",
            "Requirement already satisfied: packaging>=21.3 in /usr/local/lib/python3.12/dist-packages (from statsmodels>=0.9.0->category_encoders) (25.0)\n",
            "Requirement already satisfied: six>=1.5 in /usr/local/lib/python3.12/dist-packages (from python-dateutil>=2.8.2->pandas>=1.0.5->category_encoders) (1.17.0)\n",
            "Downloading category_encoders-2.8.1-py3-none-any.whl (85 kB)\n",
            "\u001b[2K   \u001b[90m━━━━━━━━━━━━━━━━━━━━━━━━━━━━━━━━━━━━━━━━\u001b[0m \u001b[32m85.7/85.7 kB\u001b[0m \u001b[31m2.9 MB/s\u001b[0m eta \u001b[36m0:00:00\u001b[0m\n",
            "\u001b[?25hInstalling collected packages: category_encoders\n",
            "Successfully installed category_encoders-2.8.1\n"
          ]
        }
      ]
    },
    {
      "cell_type": "code",
      "execution_count": null,
      "metadata": {
        "id": "P0pHv_vaAc72"
      },
      "outputs": [],
      "source": [
        "import pandas as pd\n",
        "from sklearn.model_selection import KFold\n",
        "from sklearn.preprocessing import StandardScaler\n",
        "from category_encoders.target_encoder import TargetEncoder\n",
        "import re\n",
        "from sklearn.metrics import accuracy_score, precision_score, recall_score, f1_score, roc_auc_score\n",
        "from sklearn.linear_model import LogisticRegression\n",
        "from sklearn.ensemble import RandomForestClassifier\n",
        "from xgboost import XGBClassifier\n",
        "from sklearn.svm import SVC\n",
        "from imblearn.over_sampling import SMOTE\n",
        "from sklearn.model_selection import GridSearchCV\n",
        "from sklearn.pipeline import Pipeline\n",
        "import matplotlib.pyplot as plt\n",
        "import seaborn as sns"
      ]
    },
    {
      "cell_type": "code",
      "source": [
        "def parse_mpi_range(value):\n",
        "    if pd.isna(value):\n",
        "        return None\n",
        "\n",
        "    # Bỏ chữ \"VND\" và các ký tự không cần thiết\n",
        "    value = value.replace(\"VND\", \"\").replace(\",\", \"\").strip()\n",
        "\n",
        "    # Tìm các số float (vd: 4.5, 8.9)\n",
        "    numbers = re.findall(r\"[\\d\\.]+\", value)\n",
        "\n",
        "    if len(numbers) == 1:\n",
        "        return float(numbers[0])\n",
        "    elif len(numbers) == 2:\n",
        "        # Nếu có khoảng, lấy trung bình\n",
        "        return (float(numbers[0]) + float(numbers[1])) / 2\n",
        "    else:\n",
        "        return None\n",
        "  # Áp dụng hàm\n",
        "\n",
        "df = pd.read_csv(\"/content/df_final_churn_prediction.csv\")  # thay bằng file thật\n",
        "df['MPI'] = df['MPI'].apply(parse_mpi_range)\n",
        "y = df['is_churn']\n",
        "X = df.drop(columns=['is_churn', 'RespondentID'])"
      ],
      "metadata": {
        "id": "wTllffCvDA3A"
      },
      "execution_count": null,
      "outputs": []
    },
    {
      "cell_type": "code",
      "source": [
        "# Xác định biến\n",
        "cat_cols = ['Gender', 'OccupationGroup', 'CompanionGroup', 'Attribute', 'DayOfWeek_mode', 'DayPart_mode']\n",
        "num_cols = ['MPI', 'GroupSize', 'Age', 'Spending', 'VisitFreq_mean']\n"
      ],
      "metadata": {
        "id": "ns99IOI7CvK6"
      },
      "execution_count": null,
      "outputs": []
    },
    {
      "cell_type": "markdown",
      "source": [
        "# Target Encoding categorical variables"
      ],
      "metadata": {
        "id": "K7la9O-QdHPl"
      }
    },
    {
      "cell_type": "code",
      "source": [
        "# Khởi tạo scaler và encoder\n",
        "scaler = StandardScaler()\n",
        "kf = KFold(n_splits=5, shuffle=True, random_state=42)"
      ],
      "metadata": {
        "id": "OcbFJ4g5Cwct"
      },
      "execution_count": null,
      "outputs": []
    },
    {
      "cell_type": "code",
      "source": [
        "# Tạo dataframe rỗng để lưu kết quả encoded\n",
        "X_encoded = pd.DataFrame(index=X.index)"
      ],
      "metadata": {
        "id": "slUCM2v8Cyh3"
      },
      "execution_count": null,
      "outputs": []
    },
    {
      "cell_type": "code",
      "source": [
        "# Cross-validation target encoding\n",
        "for train_idx, valid_idx in kf.split(X):\n",
        "    X_train, X_valid = X.iloc[train_idx], X.iloc[valid_idx]\n",
        "    y_train = y.iloc[train_idx]\n",
        "\n",
        "    # Fit encoder trên train\n",
        "    encoder = TargetEncoder(cols=cat_cols, smoothing=0.3)\n",
        "    encoder.fit(X_train[cat_cols], y_train)\n",
        "\n",
        "    # Transform train và valid\n",
        "    X_encoded.loc[train_idx, cat_cols] = encoder.transform(X_train[cat_cols])\n",
        "    X_encoded.loc[valid_idx, cat_cols] = encoder.transform(X_valid[cat_cols])\n",
        "\n",
        "# Chuẩn hóa các biến số\n",
        "X_encoded[num_cols] = scaler.fit_transform(X[num_cols])\n",
        "\n",
        "# Ghép lại để có full feature matrix\n",
        "X_final = X_encoded[cat_cols + num_cols]\n",
        "y_final = y"
      ],
      "metadata": {
        "id": "7qcppxuECz-H"
      },
      "execution_count": null,
      "outputs": []
    },
    {
      "cell_type": "code",
      "source": [
        "X_final"
      ],
      "metadata": {
        "colab": {
          "base_uri": "https://localhost:8080/",
          "height": 443
        },
        "id": "_9tJry6lC2Mo",
        "outputId": "116750d0-9096-44d1-ae6b-ad5eedf5e5a1"
      },
      "execution_count": null,
      "outputs": [
        {
          "output_type": "execute_result",
          "data": {
            "text/plain": [
              "         Gender  OccupationGroup  CompanionGroup  Attribute  DayOfWeek_mode  \\\n",
              "0      0.354826         0.364508        0.317907   0.341616        0.370231   \n",
              "1      0.354826         0.372161        0.353706   0.341616        0.353274   \n",
              "2      0.385232         0.372161        0.387041   0.341616        0.370231   \n",
              "3      0.385232         0.332887        0.354789   0.341616        0.353274   \n",
              "4      0.385232         0.364508        0.387041   0.892583        0.370231   \n",
              "...         ...              ...             ...        ...             ...   \n",
              "11732  0.354826         0.400419        0.354789   0.341616        0.353274   \n",
              "11733  0.354826         0.332887        0.387041   0.341616        0.353274   \n",
              "11734  0.385232         0.400419        0.400676   0.341616        0.370231   \n",
              "11735  0.354826         0.332887        0.354789   0.341616        0.370231   \n",
              "11736  0.354826         0.332887        0.400676   0.341616        0.370231   \n",
              "\n",
              "       DayPart_mode       MPI  GroupSize       Age  Spending  VisitFreq_mean  \n",
              "0          0.342266 -0.242332   0.534716  0.349004  0.025231       -0.646523  \n",
              "1          0.367678 -0.242332   0.534716 -0.205306 -0.867812       -1.091318  \n",
              "2          0.342266 -0.242332   0.534716 -1.683467  0.538068       -0.844210  \n",
              "3          0.367678 -0.242332  -0.216177  1.827165 -0.544195        0.144225  \n",
              "4          0.413986 -0.242332  -0.967069  2.289091 -0.551268        0.638442  \n",
              "...             ...       ...        ...       ...       ...             ...  \n",
              "11732      0.378430 -0.242332   0.534716 -1.221542 -0.782929       -0.349993  \n",
              "11733      0.367678 -0.242332  -0.216177 -1.036772  0.177314        0.144225  \n",
              "11734      0.378430  1.390909  -0.967069  0.533774  0.140177        0.144225  \n",
              "11735      0.367678 -0.242332   0.534716 -0.944387  0.272807       -0.185254  \n",
              "11736      0.367678  1.390909   0.534716 -0.482461 -0.416870       -0.703005  \n",
              "\n",
              "[11737 rows x 11 columns]"
            ],
            "text/html": [
              "\n",
              "  <div id=\"df-950c9894-6168-4800-89d8-31c1d50f4c22\" class=\"colab-df-container\">\n",
              "    <div>\n",
              "<style scoped>\n",
              "    .dataframe tbody tr th:only-of-type {\n",
              "        vertical-align: middle;\n",
              "    }\n",
              "\n",
              "    .dataframe tbody tr th {\n",
              "        vertical-align: top;\n",
              "    }\n",
              "\n",
              "    .dataframe thead th {\n",
              "        text-align: right;\n",
              "    }\n",
              "</style>\n",
              "<table border=\"1\" class=\"dataframe\">\n",
              "  <thead>\n",
              "    <tr style=\"text-align: right;\">\n",
              "      <th></th>\n",
              "      <th>Gender</th>\n",
              "      <th>OccupationGroup</th>\n",
              "      <th>CompanionGroup</th>\n",
              "      <th>Attribute</th>\n",
              "      <th>DayOfWeek_mode</th>\n",
              "      <th>DayPart_mode</th>\n",
              "      <th>MPI</th>\n",
              "      <th>GroupSize</th>\n",
              "      <th>Age</th>\n",
              "      <th>Spending</th>\n",
              "      <th>VisitFreq_mean</th>\n",
              "    </tr>\n",
              "  </thead>\n",
              "  <tbody>\n",
              "    <tr>\n",
              "      <th>0</th>\n",
              "      <td>0.354826</td>\n",
              "      <td>0.364508</td>\n",
              "      <td>0.317907</td>\n",
              "      <td>0.341616</td>\n",
              "      <td>0.370231</td>\n",
              "      <td>0.342266</td>\n",
              "      <td>-0.242332</td>\n",
              "      <td>0.534716</td>\n",
              "      <td>0.349004</td>\n",
              "      <td>0.025231</td>\n",
              "      <td>-0.646523</td>\n",
              "    </tr>\n",
              "    <tr>\n",
              "      <th>1</th>\n",
              "      <td>0.354826</td>\n",
              "      <td>0.372161</td>\n",
              "      <td>0.353706</td>\n",
              "      <td>0.341616</td>\n",
              "      <td>0.353274</td>\n",
              "      <td>0.367678</td>\n",
              "      <td>-0.242332</td>\n",
              "      <td>0.534716</td>\n",
              "      <td>-0.205306</td>\n",
              "      <td>-0.867812</td>\n",
              "      <td>-1.091318</td>\n",
              "    </tr>\n",
              "    <tr>\n",
              "      <th>2</th>\n",
              "      <td>0.385232</td>\n",
              "      <td>0.372161</td>\n",
              "      <td>0.387041</td>\n",
              "      <td>0.341616</td>\n",
              "      <td>0.370231</td>\n",
              "      <td>0.342266</td>\n",
              "      <td>-0.242332</td>\n",
              "      <td>0.534716</td>\n",
              "      <td>-1.683467</td>\n",
              "      <td>0.538068</td>\n",
              "      <td>-0.844210</td>\n",
              "    </tr>\n",
              "    <tr>\n",
              "      <th>3</th>\n",
              "      <td>0.385232</td>\n",
              "      <td>0.332887</td>\n",
              "      <td>0.354789</td>\n",
              "      <td>0.341616</td>\n",
              "      <td>0.353274</td>\n",
              "      <td>0.367678</td>\n",
              "      <td>-0.242332</td>\n",
              "      <td>-0.216177</td>\n",
              "      <td>1.827165</td>\n",
              "      <td>-0.544195</td>\n",
              "      <td>0.144225</td>\n",
              "    </tr>\n",
              "    <tr>\n",
              "      <th>4</th>\n",
              "      <td>0.385232</td>\n",
              "      <td>0.364508</td>\n",
              "      <td>0.387041</td>\n",
              "      <td>0.892583</td>\n",
              "      <td>0.370231</td>\n",
              "      <td>0.413986</td>\n",
              "      <td>-0.242332</td>\n",
              "      <td>-0.967069</td>\n",
              "      <td>2.289091</td>\n",
              "      <td>-0.551268</td>\n",
              "      <td>0.638442</td>\n",
              "    </tr>\n",
              "    <tr>\n",
              "      <th>...</th>\n",
              "      <td>...</td>\n",
              "      <td>...</td>\n",
              "      <td>...</td>\n",
              "      <td>...</td>\n",
              "      <td>...</td>\n",
              "      <td>...</td>\n",
              "      <td>...</td>\n",
              "      <td>...</td>\n",
              "      <td>...</td>\n",
              "      <td>...</td>\n",
              "      <td>...</td>\n",
              "    </tr>\n",
              "    <tr>\n",
              "      <th>11732</th>\n",
              "      <td>0.354826</td>\n",
              "      <td>0.400419</td>\n",
              "      <td>0.354789</td>\n",
              "      <td>0.341616</td>\n",
              "      <td>0.353274</td>\n",
              "      <td>0.378430</td>\n",
              "      <td>-0.242332</td>\n",
              "      <td>0.534716</td>\n",
              "      <td>-1.221542</td>\n",
              "      <td>-0.782929</td>\n",
              "      <td>-0.349993</td>\n",
              "    </tr>\n",
              "    <tr>\n",
              "      <th>11733</th>\n",
              "      <td>0.354826</td>\n",
              "      <td>0.332887</td>\n",
              "      <td>0.387041</td>\n",
              "      <td>0.341616</td>\n",
              "      <td>0.353274</td>\n",
              "      <td>0.367678</td>\n",
              "      <td>-0.242332</td>\n",
              "      <td>-0.216177</td>\n",
              "      <td>-1.036772</td>\n",
              "      <td>0.177314</td>\n",
              "      <td>0.144225</td>\n",
              "    </tr>\n",
              "    <tr>\n",
              "      <th>11734</th>\n",
              "      <td>0.385232</td>\n",
              "      <td>0.400419</td>\n",
              "      <td>0.400676</td>\n",
              "      <td>0.341616</td>\n",
              "      <td>0.370231</td>\n",
              "      <td>0.378430</td>\n",
              "      <td>1.390909</td>\n",
              "      <td>-0.967069</td>\n",
              "      <td>0.533774</td>\n",
              "      <td>0.140177</td>\n",
              "      <td>0.144225</td>\n",
              "    </tr>\n",
              "    <tr>\n",
              "      <th>11735</th>\n",
              "      <td>0.354826</td>\n",
              "      <td>0.332887</td>\n",
              "      <td>0.354789</td>\n",
              "      <td>0.341616</td>\n",
              "      <td>0.370231</td>\n",
              "      <td>0.367678</td>\n",
              "      <td>-0.242332</td>\n",
              "      <td>0.534716</td>\n",
              "      <td>-0.944387</td>\n",
              "      <td>0.272807</td>\n",
              "      <td>-0.185254</td>\n",
              "    </tr>\n",
              "    <tr>\n",
              "      <th>11736</th>\n",
              "      <td>0.354826</td>\n",
              "      <td>0.332887</td>\n",
              "      <td>0.400676</td>\n",
              "      <td>0.341616</td>\n",
              "      <td>0.370231</td>\n",
              "      <td>0.367678</td>\n",
              "      <td>1.390909</td>\n",
              "      <td>0.534716</td>\n",
              "      <td>-0.482461</td>\n",
              "      <td>-0.416870</td>\n",
              "      <td>-0.703005</td>\n",
              "    </tr>\n",
              "  </tbody>\n",
              "</table>\n",
              "<p>11737 rows × 11 columns</p>\n",
              "</div>\n",
              "    <div class=\"colab-df-buttons\">\n",
              "\n",
              "  <div class=\"colab-df-container\">\n",
              "    <button class=\"colab-df-convert\" onclick=\"convertToInteractive('df-950c9894-6168-4800-89d8-31c1d50f4c22')\"\n",
              "            title=\"Convert this dataframe to an interactive table.\"\n",
              "            style=\"display:none;\">\n",
              "\n",
              "  <svg xmlns=\"http://www.w3.org/2000/svg\" height=\"24px\" viewBox=\"0 -960 960 960\">\n",
              "    <path d=\"M120-120v-720h720v720H120Zm60-500h600v-160H180v160Zm220 220h160v-160H400v160Zm0 220h160v-160H400v160ZM180-400h160v-160H180v160Zm440 0h160v-160H620v160ZM180-180h160v-160H180v160Zm440 0h160v-160H620v160Z\"/>\n",
              "  </svg>\n",
              "    </button>\n",
              "\n",
              "  <style>\n",
              "    .colab-df-container {\n",
              "      display:flex;\n",
              "      gap: 12px;\n",
              "    }\n",
              "\n",
              "    .colab-df-convert {\n",
              "      background-color: #E8F0FE;\n",
              "      border: none;\n",
              "      border-radius: 50%;\n",
              "      cursor: pointer;\n",
              "      display: none;\n",
              "      fill: #1967D2;\n",
              "      height: 32px;\n",
              "      padding: 0 0 0 0;\n",
              "      width: 32px;\n",
              "    }\n",
              "\n",
              "    .colab-df-convert:hover {\n",
              "      background-color: #E2EBFA;\n",
              "      box-shadow: 0px 1px 2px rgba(60, 64, 67, 0.3), 0px 1px 3px 1px rgba(60, 64, 67, 0.15);\n",
              "      fill: #174EA6;\n",
              "    }\n",
              "\n",
              "    .colab-df-buttons div {\n",
              "      margin-bottom: 4px;\n",
              "    }\n",
              "\n",
              "    [theme=dark] .colab-df-convert {\n",
              "      background-color: #3B4455;\n",
              "      fill: #D2E3FC;\n",
              "    }\n",
              "\n",
              "    [theme=dark] .colab-df-convert:hover {\n",
              "      background-color: #434B5C;\n",
              "      box-shadow: 0px 1px 3px 1px rgba(0, 0, 0, 0.15);\n",
              "      filter: drop-shadow(0px 1px 2px rgba(0, 0, 0, 0.3));\n",
              "      fill: #FFFFFF;\n",
              "    }\n",
              "  </style>\n",
              "\n",
              "    <script>\n",
              "      const buttonEl =\n",
              "        document.querySelector('#df-950c9894-6168-4800-89d8-31c1d50f4c22 button.colab-df-convert');\n",
              "      buttonEl.style.display =\n",
              "        google.colab.kernel.accessAllowed ? 'block' : 'none';\n",
              "\n",
              "      async function convertToInteractive(key) {\n",
              "        const element = document.querySelector('#df-950c9894-6168-4800-89d8-31c1d50f4c22');\n",
              "        const dataTable =\n",
              "          await google.colab.kernel.invokeFunction('convertToInteractive',\n",
              "                                                    [key], {});\n",
              "        if (!dataTable) return;\n",
              "\n",
              "        const docLinkHtml = 'Like what you see? Visit the ' +\n",
              "          '<a target=\"_blank\" href=https://colab.research.google.com/notebooks/data_table.ipynb>data table notebook</a>'\n",
              "          + ' to learn more about interactive tables.';\n",
              "        element.innerHTML = '';\n",
              "        dataTable['output_type'] = 'display_data';\n",
              "        await google.colab.output.renderOutput(dataTable, element);\n",
              "        const docLink = document.createElement('div');\n",
              "        docLink.innerHTML = docLinkHtml;\n",
              "        element.appendChild(docLink);\n",
              "      }\n",
              "    </script>\n",
              "  </div>\n",
              "\n",
              "\n",
              "    <div id=\"df-869f06fa-c901-462e-929b-04918254efd5\">\n",
              "      <button class=\"colab-df-quickchart\" onclick=\"quickchart('df-869f06fa-c901-462e-929b-04918254efd5')\"\n",
              "                title=\"Suggest charts\"\n",
              "                style=\"display:none;\">\n",
              "\n",
              "<svg xmlns=\"http://www.w3.org/2000/svg\" height=\"24px\"viewBox=\"0 0 24 24\"\n",
              "     width=\"24px\">\n",
              "    <g>\n",
              "        <path d=\"M19 3H5c-1.1 0-2 .9-2 2v14c0 1.1.9 2 2 2h14c1.1 0 2-.9 2-2V5c0-1.1-.9-2-2-2zM9 17H7v-7h2v7zm4 0h-2V7h2v10zm4 0h-2v-4h2v4z\"/>\n",
              "    </g>\n",
              "</svg>\n",
              "      </button>\n",
              "\n",
              "<style>\n",
              "  .colab-df-quickchart {\n",
              "      --bg-color: #E8F0FE;\n",
              "      --fill-color: #1967D2;\n",
              "      --hover-bg-color: #E2EBFA;\n",
              "      --hover-fill-color: #174EA6;\n",
              "      --disabled-fill-color: #AAA;\n",
              "      --disabled-bg-color: #DDD;\n",
              "  }\n",
              "\n",
              "  [theme=dark] .colab-df-quickchart {\n",
              "      --bg-color: #3B4455;\n",
              "      --fill-color: #D2E3FC;\n",
              "      --hover-bg-color: #434B5C;\n",
              "      --hover-fill-color: #FFFFFF;\n",
              "      --disabled-bg-color: #3B4455;\n",
              "      --disabled-fill-color: #666;\n",
              "  }\n",
              "\n",
              "  .colab-df-quickchart {\n",
              "    background-color: var(--bg-color);\n",
              "    border: none;\n",
              "    border-radius: 50%;\n",
              "    cursor: pointer;\n",
              "    display: none;\n",
              "    fill: var(--fill-color);\n",
              "    height: 32px;\n",
              "    padding: 0;\n",
              "    width: 32px;\n",
              "  }\n",
              "\n",
              "  .colab-df-quickchart:hover {\n",
              "    background-color: var(--hover-bg-color);\n",
              "    box-shadow: 0 1px 2px rgba(60, 64, 67, 0.3), 0 1px 3px 1px rgba(60, 64, 67, 0.15);\n",
              "    fill: var(--button-hover-fill-color);\n",
              "  }\n",
              "\n",
              "  .colab-df-quickchart-complete:disabled,\n",
              "  .colab-df-quickchart-complete:disabled:hover {\n",
              "    background-color: var(--disabled-bg-color);\n",
              "    fill: var(--disabled-fill-color);\n",
              "    box-shadow: none;\n",
              "  }\n",
              "\n",
              "  .colab-df-spinner {\n",
              "    border: 2px solid var(--fill-color);\n",
              "    border-color: transparent;\n",
              "    border-bottom-color: var(--fill-color);\n",
              "    animation:\n",
              "      spin 1s steps(1) infinite;\n",
              "  }\n",
              "\n",
              "  @keyframes spin {\n",
              "    0% {\n",
              "      border-color: transparent;\n",
              "      border-bottom-color: var(--fill-color);\n",
              "      border-left-color: var(--fill-color);\n",
              "    }\n",
              "    20% {\n",
              "      border-color: transparent;\n",
              "      border-left-color: var(--fill-color);\n",
              "      border-top-color: var(--fill-color);\n",
              "    }\n",
              "    30% {\n",
              "      border-color: transparent;\n",
              "      border-left-color: var(--fill-color);\n",
              "      border-top-color: var(--fill-color);\n",
              "      border-right-color: var(--fill-color);\n",
              "    }\n",
              "    40% {\n",
              "      border-color: transparent;\n",
              "      border-right-color: var(--fill-color);\n",
              "      border-top-color: var(--fill-color);\n",
              "    }\n",
              "    60% {\n",
              "      border-color: transparent;\n",
              "      border-right-color: var(--fill-color);\n",
              "    }\n",
              "    80% {\n",
              "      border-color: transparent;\n",
              "      border-right-color: var(--fill-color);\n",
              "      border-bottom-color: var(--fill-color);\n",
              "    }\n",
              "    90% {\n",
              "      border-color: transparent;\n",
              "      border-bottom-color: var(--fill-color);\n",
              "    }\n",
              "  }\n",
              "</style>\n",
              "\n",
              "      <script>\n",
              "        async function quickchart(key) {\n",
              "          const quickchartButtonEl =\n",
              "            document.querySelector('#' + key + ' button');\n",
              "          quickchartButtonEl.disabled = true;  // To prevent multiple clicks.\n",
              "          quickchartButtonEl.classList.add('colab-df-spinner');\n",
              "          try {\n",
              "            const charts = await google.colab.kernel.invokeFunction(\n",
              "                'suggestCharts', [key], {});\n",
              "          } catch (error) {\n",
              "            console.error('Error during call to suggestCharts:', error);\n",
              "          }\n",
              "          quickchartButtonEl.classList.remove('colab-df-spinner');\n",
              "          quickchartButtonEl.classList.add('colab-df-quickchart-complete');\n",
              "        }\n",
              "        (() => {\n",
              "          let quickchartButtonEl =\n",
              "            document.querySelector('#df-869f06fa-c901-462e-929b-04918254efd5 button');\n",
              "          quickchartButtonEl.style.display =\n",
              "            google.colab.kernel.accessAllowed ? 'block' : 'none';\n",
              "        })();\n",
              "      </script>\n",
              "    </div>\n",
              "\n",
              "  <div id=\"id_ef615958-b71d-4b82-8f28-ab84aff93e36\">\n",
              "    <style>\n",
              "      .colab-df-generate {\n",
              "        background-color: #E8F0FE;\n",
              "        border: none;\n",
              "        border-radius: 50%;\n",
              "        cursor: pointer;\n",
              "        display: none;\n",
              "        fill: #1967D2;\n",
              "        height: 32px;\n",
              "        padding: 0 0 0 0;\n",
              "        width: 32px;\n",
              "      }\n",
              "\n",
              "      .colab-df-generate:hover {\n",
              "        background-color: #E2EBFA;\n",
              "        box-shadow: 0px 1px 2px rgba(60, 64, 67, 0.3), 0px 1px 3px 1px rgba(60, 64, 67, 0.15);\n",
              "        fill: #174EA6;\n",
              "      }\n",
              "\n",
              "      [theme=dark] .colab-df-generate {\n",
              "        background-color: #3B4455;\n",
              "        fill: #D2E3FC;\n",
              "      }\n",
              "\n",
              "      [theme=dark] .colab-df-generate:hover {\n",
              "        background-color: #434B5C;\n",
              "        box-shadow: 0px 1px 3px 1px rgba(0, 0, 0, 0.15);\n",
              "        filter: drop-shadow(0px 1px 2px rgba(0, 0, 0, 0.3));\n",
              "        fill: #FFFFFF;\n",
              "      }\n",
              "    </style>\n",
              "    <button class=\"colab-df-generate\" onclick=\"generateWithVariable('X_final')\"\n",
              "            title=\"Generate code using this dataframe.\"\n",
              "            style=\"display:none;\">\n",
              "\n",
              "  <svg xmlns=\"http://www.w3.org/2000/svg\" height=\"24px\"viewBox=\"0 0 24 24\"\n",
              "       width=\"24px\">\n",
              "    <path d=\"M7,19H8.4L18.45,9,17,7.55,7,17.6ZM5,21V16.75L18.45,3.32a2,2,0,0,1,2.83,0l1.4,1.43a1.91,1.91,0,0,1,.58,1.4,1.91,1.91,0,0,1-.58,1.4L9.25,21ZM18.45,9,17,7.55Zm-12,3A5.31,5.31,0,0,0,4.9,8.1,5.31,5.31,0,0,0,1,6.5,5.31,5.31,0,0,0,4.9,4.9,5.31,5.31,0,0,0,6.5,1,5.31,5.31,0,0,0,8.1,4.9,5.31,5.31,0,0,0,12,6.5,5.46,5.46,0,0,0,6.5,12Z\"/>\n",
              "  </svg>\n",
              "    </button>\n",
              "    <script>\n",
              "      (() => {\n",
              "      const buttonEl =\n",
              "        document.querySelector('#id_ef615958-b71d-4b82-8f28-ab84aff93e36 button.colab-df-generate');\n",
              "      buttonEl.style.display =\n",
              "        google.colab.kernel.accessAllowed ? 'block' : 'none';\n",
              "\n",
              "      buttonEl.onclick = () => {\n",
              "        google.colab.notebook.generateWithVariable('X_final');\n",
              "      }\n",
              "      })();\n",
              "    </script>\n",
              "  </div>\n",
              "\n",
              "    </div>\n",
              "  </div>\n"
            ],
            "application/vnd.google.colaboratory.intrinsic+json": {
              "type": "dataframe",
              "variable_name": "X_final",
              "summary": "{\n  \"name\": \"X_final\",\n  \"rows\": 11737,\n  \"fields\": [\n    {\n      \"column\": \"Gender\",\n      \"properties\": {\n        \"dtype\": \"number\",\n        \"std\": 0.015101134729162333,\n        \"min\": 0.35482647449269866,\n        \"max\": 0.38523196502307505,\n        \"num_unique_values\": 2,\n        \"samples\": [\n          0.38523196502307505,\n          0.35482647449269866\n        ],\n        \"semantic_type\": \"\",\n        \"description\": \"\"\n      }\n    },\n    {\n      \"column\": \"OccupationGroup\",\n      \"properties\": {\n        \"dtype\": \"number\",\n        \"std\": 0.030271331676560494,\n        \"min\": 0.2072072072072072,\n        \"max\": 0.40041928721174,\n        \"num_unique_values\": 7,\n        \"samples\": [\n          0.3645083932853717,\n          0.372161480235492\n        ],\n        \"semantic_type\": \"\",\n        \"description\": \"\"\n      }\n    },\n    {\n      \"column\": \"CompanionGroup\",\n      \"properties\": {\n        \"dtype\": \"number\",\n        \"std\": 0.021954135790477333,\n        \"min\": 0.317907444668008,\n        \"max\": 0.400676246830093,\n        \"num_unique_values\": 6,\n        \"samples\": [\n          0.317907444668008,\n          0.3537056550755181\n        ],\n        \"semantic_type\": \"\",\n        \"description\": \"\"\n      }\n    },\n    {\n      \"column\": \"Attribute\",\n      \"properties\": {\n        \"dtype\": \"number\",\n        \"std\": 0.11305796185377241,\n        \"min\": 0.34161629729124693,\n        \"max\": 0.8928571428557666,\n        \"num_unique_values\": 6,\n        \"samples\": [\n          0.34161629729124693,\n          0.8925831202046036\n        ],\n        \"semantic_type\": \"\",\n        \"description\": \"\"\n      }\n    },\n    {\n      \"column\": \"DayOfWeek_mode\",\n      \"properties\": {\n        \"dtype\": \"number\",\n        \"std\": 0.010481031254604103,\n        \"min\": 0.3532740501212611,\n        \"max\": 0.4090909090909091,\n        \"num_unique_values\": 8,\n        \"samples\": [\n          0.3532740501212611,\n          0.3681576240269302\n        ],\n        \"semantic_type\": \"\",\n        \"description\": \"\"\n      }\n    },\n    {\n      \"column\": \"DayPart_mode\",\n      \"properties\": {\n        \"dtype\": \"number\",\n        \"std\": 0.01835547973539321,\n        \"min\": 0.2911392405063291,\n        \"max\": 0.413986013986014,\n        \"num_unique_values\": 6,\n        \"samples\": [\n          0.34226646248085757,\n          0.36767782426778245\n        ],\n        \"semantic_type\": \"\",\n        \"description\": \"\"\n      }\n    },\n    {\n      \"column\": \"MPI\",\n      \"properties\": {\n        \"dtype\": \"number\",\n        \"std\": 1.0000426030461527,\n        \"min\": -0.9267374644706335,\n        \"max\": 5.450678008809349,\n        \"num_unique_values\": 5,\n        \"samples\": [\n          -0.9267374644706335,\n          5.450678008809349\n        ],\n        \"semantic_type\": \"\",\n        \"description\": \"\"\n      }\n    },\n    {\n      \"column\": \"GroupSize\",\n      \"properties\": {\n        \"dtype\": \"number\",\n        \"std\": 1.0000426030461838,\n        \"min\": -1.7179615260634704,\n        \"max\": 23.812381104846907,\n        \"num_unique_values\": 16,\n        \"samples\": [\n          0.53471576489921,\n          -0.21617666542168348\n        ],\n        \"semantic_type\": \"\",\n        \"description\": \"\"\n      }\n    },\n    {\n      \"column\": \"Age\",\n      \"properties\": {\n        \"dtype\": \"number\",\n        \"std\": 1.0000426030461245,\n        \"min\": -1.7758523806740516,\n        \"max\": 2.28909050023095,\n        \"num_unique_values\": 45,\n        \"samples\": [\n          0.6261593216789038,\n          0.9956995835793585\n        ],\n        \"semantic_type\": \"\",\n        \"description\": \"\"\n      }\n    },\n    {\n      \"column\": \"Spending\",\n      \"properties\": {\n        \"dtype\": \"number\",\n        \"std\": 1.0000426030461396,\n        \"min\": -1.0004425601632099,\n        \"max\": 18.841034740114683,\n        \"num_unique_values\": 532,\n        \"samples\": [\n          0.8563801818414057,\n          -0.989832144494612\n        ],\n        \"semantic_type\": \"\",\n        \"description\": \"\"\n      }\n    },\n    {\n      \"column\": \"VisitFreq_mean\",\n      \"properties\": {\n        \"dtype\": \"number\",\n        \"std\": 1.000042603046193,\n        \"min\": -1.3384269634027957,\n        \"max\": 17.936042938686484,\n        \"num_unique_values\": 138,\n        \"samples\": [\n          0.49723683665497836,\n          -0.9265793160869947\n        ],\n        \"semantic_type\": \"\",\n        \"description\": \"\"\n      }\n    }\n  ]\n}"
            }
          },
          "metadata": {},
          "execution_count": 27
        }
      ]
    },
    {
      "cell_type": "code",
      "source": [
        "y_final"
      ],
      "metadata": {
        "colab": {
          "base_uri": "https://localhost:8080/",
          "height": 458
        },
        "id": "K0VLvb_CDYNR",
        "outputId": "c75fbc2d-b0ee-4206-bd9f-ef37fbadd58d"
      },
      "execution_count": null,
      "outputs": [
        {
          "output_type": "execute_result",
          "data": {
            "text/plain": [
              "0        0\n",
              "1        0\n",
              "2        0\n",
              "3        1\n",
              "4        1\n",
              "        ..\n",
              "11732    1\n",
              "11733    0\n",
              "11734    1\n",
              "11735    1\n",
              "11736    0\n",
              "Name: is_churn, Length: 11737, dtype: int64"
            ],
            "text/html": [
              "<div>\n",
              "<style scoped>\n",
              "    .dataframe tbody tr th:only-of-type {\n",
              "        vertical-align: middle;\n",
              "    }\n",
              "\n",
              "    .dataframe tbody tr th {\n",
              "        vertical-align: top;\n",
              "    }\n",
              "\n",
              "    .dataframe thead th {\n",
              "        text-align: right;\n",
              "    }\n",
              "</style>\n",
              "<table border=\"1\" class=\"dataframe\">\n",
              "  <thead>\n",
              "    <tr style=\"text-align: right;\">\n",
              "      <th></th>\n",
              "      <th>is_churn</th>\n",
              "    </tr>\n",
              "  </thead>\n",
              "  <tbody>\n",
              "    <tr>\n",
              "      <th>0</th>\n",
              "      <td>0</td>\n",
              "    </tr>\n",
              "    <tr>\n",
              "      <th>1</th>\n",
              "      <td>0</td>\n",
              "    </tr>\n",
              "    <tr>\n",
              "      <th>2</th>\n",
              "      <td>0</td>\n",
              "    </tr>\n",
              "    <tr>\n",
              "      <th>3</th>\n",
              "      <td>1</td>\n",
              "    </tr>\n",
              "    <tr>\n",
              "      <th>4</th>\n",
              "      <td>1</td>\n",
              "    </tr>\n",
              "    <tr>\n",
              "      <th>...</th>\n",
              "      <td>...</td>\n",
              "    </tr>\n",
              "    <tr>\n",
              "      <th>11732</th>\n",
              "      <td>1</td>\n",
              "    </tr>\n",
              "    <tr>\n",
              "      <th>11733</th>\n",
              "      <td>0</td>\n",
              "    </tr>\n",
              "    <tr>\n",
              "      <th>11734</th>\n",
              "      <td>1</td>\n",
              "    </tr>\n",
              "    <tr>\n",
              "      <th>11735</th>\n",
              "      <td>1</td>\n",
              "    </tr>\n",
              "    <tr>\n",
              "      <th>11736</th>\n",
              "      <td>0</td>\n",
              "    </tr>\n",
              "  </tbody>\n",
              "</table>\n",
              "<p>11737 rows × 1 columns</p>\n",
              "</div><br><label><b>dtype:</b> int64</label>"
            ]
          },
          "metadata": {},
          "execution_count": 28
        }
      ]
    },
    {
      "cell_type": "code",
      "metadata": {
        "colab": {
          "base_uri": "https://localhost:8080/"
        },
        "id": "b68112d3",
        "outputId": "3dea98e5-a0ee-4062-cfc7-4389f70c5be2"
      },
      "source": [
        "# Calculate the percentage of each category in y_final\n",
        "category_percentages = y_final.value_counts(normalize=True) * 100\n",
        "\n",
        "# Display the result\n",
        "print(\"Percentage of each category in y_final:\")\n",
        "print(category_percentages)"
      ],
      "execution_count": null,
      "outputs": [
        {
          "output_type": "stream",
          "name": "stdout",
          "text": [
            "Percentage of each category in y_final:\n",
            "is_churn\n",
            "0    62.852518\n",
            "1    37.147482\n",
            "Name: proportion, dtype: float64\n"
          ]
        }
      ]
    },
    {
      "cell_type": "markdown",
      "source": [
        "# Training Models"
      ],
      "metadata": {
        "id": "_FZxU650dPi2"
      }
    },
    {
      "cell_type": "markdown",
      "source": [
        "## Default Models"
      ],
      "metadata": {
        "id": "2jedgPgSdRVH"
      }
    },
    {
      "cell_type": "code",
      "source": [
        "# ---------------------------\n",
        "# 1️⃣ Danh sách mô hình (không SMOTE)\n",
        "# ---------------------------\n",
        "models = {\n",
        "    \"Logistic Regression\": LogisticRegression(max_iter=1000, random_state=42),\n",
        "    \"Random Forest\": RandomForestClassifier(n_estimators=300, random_state=42),\n",
        "    \"XGBoost\": XGBClassifier(\n",
        "        n_estimators=300,\n",
        "        learning_rate=0.05,\n",
        "        max_depth=5,\n",
        "        subsample=0.8,\n",
        "        colsample_bytree=0.8,\n",
        "        random_state=42,\n",
        "        use_label_encoder=False,\n",
        "        eval_metric='logloss'\n",
        "    ),\n",
        "    \"SVM (RBF)\": SVC(kernel='rbf', C=1.0, probability=True, random_state=42)\n",
        "}\n",
        "\n",
        "# ---------------------------\n",
        "# 2️⃣ Thiết lập KFold\n",
        "# ---------------------------\n",
        "kf = KFold(n_splits=5, shuffle=True, random_state=42)\n",
        "\n",
        "# ---------------------------\n",
        "# 3️⃣ Hàm đánh giá từng fold\n",
        "# ---------------------------\n",
        "def evaluate_model(model, X_train, X_valid, y_train, y_valid):\n",
        "    model.fit(X_train, y_train)\n",
        "    y_pred = model.predict(X_valid)\n",
        "    y_prob = model.predict_proba(X_valid)[:, 1]\n",
        "\n",
        "    return {\n",
        "        \"accuracy\": accuracy_score(y_valid, y_pred),\n",
        "        \"precision\": precision_score(y_valid, y_pred),\n",
        "        \"recall\": recall_score(y_valid, y_pred),\n",
        "        \"f1\": f1_score(y_valid, y_pred),\n",
        "        \"roc_auc\": roc_auc_score(y_valid, y_prob)\n",
        "    }\n",
        "\n",
        "# ---------------------------\n",
        "# 4️⃣ Chạy cross-validation\n",
        "# ---------------------------\n",
        "results = []\n",
        "\n",
        "for model_name, model in models.items():\n",
        "    print(f\"🔹 Running 5-Fold CV for {model_name} ...\")\n",
        "    fold_scores = []\n",
        "\n",
        "    for fold, (train_idx, valid_idx) in enumerate(kf.split(X_final)):\n",
        "        X_train, X_valid = X_final.iloc[train_idx], X_final.iloc[valid_idx]\n",
        "        y_train, y_valid = y_final.iloc[train_idx], y_final.iloc[valid_idx]\n",
        "\n",
        "        scores = evaluate_model(model, X_train, X_valid, y_train, y_valid)\n",
        "        fold_scores.append(scores)\n",
        "        print(f\"  Fold {fold+1}: ROC_AUC = {scores['roc_auc']:.4f}, F1 = {scores['f1']:.4f}\")\n",
        "\n",
        "    avg_scores = pd.DataFrame(fold_scores).mean().to_dict()\n",
        "    avg_scores[\"model\"] = model_name\n",
        "    results.append(avg_scores)\n",
        "\n",
        "# ---------------------------\n",
        "# 5️⃣ Kết quả trung bình\n",
        "# ---------------------------\n",
        "results_df = pd.DataFrame(results).set_index(\"model\").round(4)\n",
        "print(\"\\n🏁 Kết quả trung bình 5-fold (không SMOTE, có SVM):\")\n",
        "print(results_df)"
      ],
      "metadata": {
        "colab": {
          "base_uri": "https://localhost:8080/"
        },
        "id": "252lhtIEIAqv",
        "outputId": "c7171d68-64fd-4df1-9f16-3bbd240df763"
      },
      "execution_count": null,
      "outputs": [
        {
          "output_type": "stream",
          "name": "stdout",
          "text": [
            "🔹 Running 5-Fold CV for Logistic Regression ...\n",
            "  Fold 1: ROC_AUC = 0.5919, F1 = 0.1920\n",
            "  Fold 2: ROC_AUC = 0.6016, F1 = 0.1770\n",
            "  Fold 3: ROC_AUC = 0.5861, F1 = 0.1847\n",
            "  Fold 4: ROC_AUC = 0.6068, F1 = 0.2164\n",
            "  Fold 5: ROC_AUC = 0.5860, F1 = 0.1778\n",
            "🔹 Running 5-Fold CV for Random Forest ...\n",
            "  Fold 1: ROC_AUC = 0.6779, F1 = 0.4420\n",
            "  Fold 2: ROC_AUC = 0.6937, F1 = 0.4630\n",
            "  Fold 3: ROC_AUC = 0.6594, F1 = 0.4207\n",
            "  Fold 4: ROC_AUC = 0.6905, F1 = 0.4594\n",
            "  Fold 5: ROC_AUC = 0.6912, F1 = 0.4425\n",
            "🔹 Running 5-Fold CV for XGBoost ...\n"
          ]
        },
        {
          "output_type": "stream",
          "name": "stderr",
          "text": [
            "/usr/local/lib/python3.12/dist-packages/xgboost/training.py:183: UserWarning: [05:52:21] WARNING: /workspace/src/learner.cc:738: \n",
            "Parameters: { \"use_label_encoder\" } are not used.\n",
            "\n",
            "  bst.update(dtrain, iteration=i, fobj=obj)\n"
          ]
        },
        {
          "output_type": "stream",
          "name": "stdout",
          "text": [
            "  Fold 1: ROC_AUC = 0.6937, F1 = 0.4209\n"
          ]
        },
        {
          "output_type": "stream",
          "name": "stderr",
          "text": [
            "/usr/local/lib/python3.12/dist-packages/xgboost/training.py:183: UserWarning: [05:52:22] WARNING: /workspace/src/learner.cc:738: \n",
            "Parameters: { \"use_label_encoder\" } are not used.\n",
            "\n",
            "  bst.update(dtrain, iteration=i, fobj=obj)\n"
          ]
        },
        {
          "output_type": "stream",
          "name": "stdout",
          "text": [
            "  Fold 2: ROC_AUC = 0.7033, F1 = 0.4425\n"
          ]
        },
        {
          "output_type": "stream",
          "name": "stderr",
          "text": [
            "/usr/local/lib/python3.12/dist-packages/xgboost/training.py:183: UserWarning: [05:52:22] WARNING: /workspace/src/learner.cc:738: \n",
            "Parameters: { \"use_label_encoder\" } are not used.\n",
            "\n",
            "  bst.update(dtrain, iteration=i, fobj=obj)\n"
          ]
        },
        {
          "output_type": "stream",
          "name": "stdout",
          "text": [
            "  Fold 3: ROC_AUC = 0.6862, F1 = 0.4210\n"
          ]
        },
        {
          "output_type": "stream",
          "name": "stderr",
          "text": [
            "/usr/local/lib/python3.12/dist-packages/xgboost/training.py:183: UserWarning: [05:52:23] WARNING: /workspace/src/learner.cc:738: \n",
            "Parameters: { \"use_label_encoder\" } are not used.\n",
            "\n",
            "  bst.update(dtrain, iteration=i, fobj=obj)\n"
          ]
        },
        {
          "output_type": "stream",
          "name": "stdout",
          "text": [
            "  Fold 4: ROC_AUC = 0.7254, F1 = 0.4617\n"
          ]
        },
        {
          "output_type": "stream",
          "name": "stderr",
          "text": [
            "/usr/local/lib/python3.12/dist-packages/xgboost/training.py:183: UserWarning: [05:52:23] WARNING: /workspace/src/learner.cc:738: \n",
            "Parameters: { \"use_label_encoder\" } are not used.\n",
            "\n",
            "  bst.update(dtrain, iteration=i, fobj=obj)\n"
          ]
        },
        {
          "output_type": "stream",
          "name": "stdout",
          "text": [
            "  Fold 5: ROC_AUC = 0.7152, F1 = 0.4392\n",
            "🔹 Running 5-Fold CV for SVM (RBF) ...\n",
            "  Fold 1: ROC_AUC = 0.5904, F1 = 0.1807\n",
            "  Fold 2: ROC_AUC = 0.6144, F1 = 0.1693\n",
            "  Fold 3: ROC_AUC = 0.5964, F1 = 0.1774\n",
            "  Fold 4: ROC_AUC = 0.6187, F1 = 0.2074\n",
            "  Fold 5: ROC_AUC = 0.6017, F1 = 0.1705\n",
            "\n",
            "🏁 Kết quả trung bình 5-fold (không SMOTE, có SVM):\n",
            "                     accuracy  precision  recall      f1  roc_auc\n",
            "model                                                            \n",
            "Logistic Regression    0.6634     0.8953  0.1061  0.1896   0.5945\n",
            "Random Forest          0.6767     0.6146  0.3498  0.4455   0.6825\n",
            "XGBoost                0.6844     0.6482  0.3301  0.4370   0.7048\n",
            "SVM (RBF)              0.6616     0.8943  0.1008  0.1811   0.6043\n"
          ]
        }
      ]
    },
    {
      "cell_type": "markdown",
      "source": [
        "## Models + SMOTE"
      ],
      "metadata": {
        "id": "Vino-WuQdVn1"
      }
    },
    {
      "cell_type": "code",
      "source": [
        "\n",
        "# ---------------------------\n",
        "# 1️⃣ Danh sách mô hình\n",
        "# ---------------------------\n",
        "models = {\n",
        "    \"Logistic Regression\": LogisticRegression(max_iter=1000, random_state=42),\n",
        "    \"Random Forest\": RandomForestClassifier(n_estimators=300, random_state=42),\n",
        "    \"XGBoost\": XGBClassifier(\n",
        "        n_estimators=300,\n",
        "        learning_rate=0.05,\n",
        "        max_depth=5,\n",
        "        subsample=0.8,\n",
        "        colsample_bytree=0.8,\n",
        "        random_state=42,\n",
        "        use_label_encoder=False,\n",
        "        eval_metric='logloss'\n",
        "    ),\n",
        "    \"SVM\": SVC(kernel='rbf', C=1.0, probability=True, random_state=42)\n",
        "}\n",
        "\n",
        "# ---------------------------\n",
        "# 2️⃣ Thiết lập KFold và SMOTE\n",
        "# ---------------------------\n",
        "kf = KFold(n_splits=5, shuffle=True, random_state=42)\n",
        "smote = SMOTE(random_state=42)\n",
        "\n",
        "# ---------------------------\n",
        "# 3️⃣ Hàm evaluate cho 1 fold\n",
        "# ---------------------------\n",
        "def evaluate_model(model, X_train, X_valid, y_train, y_valid):\n",
        "    model.fit(X_train, y_train)\n",
        "    y_pred = model.predict(X_valid)\n",
        "    y_prob = model.predict_proba(X_valid)[:, 1]\n",
        "\n",
        "    return {\n",
        "        \"accuracy\": accuracy_score(y_valid, y_pred),\n",
        "        \"precision\": precision_score(y_valid, y_pred),\n",
        "        \"recall\": recall_score(y_valid, y_pred),\n",
        "        \"f1\": f1_score(y_valid, y_pred),\n",
        "        \"roc_auc\": roc_auc_score(y_valid, y_prob)\n",
        "    }\n",
        "\n",
        "# ---------------------------\n",
        "# 4️⃣ Cross-validation với SMOTE\n",
        "# ---------------------------\n",
        "results = []\n",
        "\n",
        "for model_name, model in models.items():\n",
        "    print(f\"🔹 Running 5-Fold CV for {model_name} ...\")\n",
        "    fold_scores = []\n",
        "\n",
        "    for fold, (train_idx, valid_idx) in enumerate(kf.split(X_final)):\n",
        "        X_train, X_valid = X_final.iloc[train_idx], X_final.iloc[valid_idx]\n",
        "        y_train, y_valid = y_final.iloc[train_idx], y_final.iloc[valid_idx]\n",
        "\n",
        "        # ⚖️ Áp dụng SMOTE chỉ trên tập huấn luyện\n",
        "        X_train_res, y_train_res = smote.fit_resample(X_train, y_train)\n",
        "\n",
        "        # Huấn luyện & đánh giá\n",
        "        scores = evaluate_model(model, X_train_res, X_valid, y_train_res, y_valid)\n",
        "        fold_scores.append(scores)\n",
        "        print(f\"  Fold {fold+1}: ROC_AUC = {scores['roc_auc']:.4f}, F1 = {scores['f1']:.4f}\")\n",
        "\n",
        "    # Trung bình 5 fold\n",
        "    avg_scores = pd.DataFrame(fold_scores).mean().to_dict()\n",
        "    avg_scores[\"model\"] = model_name\n",
        "    results.append(avg_scores)\n",
        "\n",
        "# ---------------------------\n",
        "# 5️⃣ Kết quả trung bình\n",
        "# ---------------------------\n",
        "results_df = pd.DataFrame(results).set_index(\"model\").round(4)\n",
        "print(\"\\n🏁 Kết quả trung bình 5-fold (với SMOTE + SVM):\")\n",
        "print(results_df)"
      ],
      "metadata": {
        "colab": {
          "base_uri": "https://localhost:8080/"
        },
        "id": "kDaosqzRDZyj",
        "outputId": "da856a7a-6eba-4e45-8897-bc4f44e88def"
      },
      "execution_count": null,
      "outputs": [
        {
          "output_type": "stream",
          "name": "stdout",
          "text": [
            "🔹 Running 5-Fold CV for Logistic Regression ...\n",
            "  Fold 1: ROC_AUC = 0.5930, F1 = 0.4021\n",
            "  Fold 2: ROC_AUC = 0.5994, F1 = 0.3887\n",
            "  Fold 3: ROC_AUC = 0.5855, F1 = 0.3882\n",
            "  Fold 4: ROC_AUC = 0.6065, F1 = 0.4218\n",
            "  Fold 5: ROC_AUC = 0.5858, F1 = 0.3818\n",
            "🔹 Running 5-Fold CV for Random Forest ...\n",
            "  Fold 1: ROC_AUC = 0.6671, F1 = 0.4504\n",
            "  Fold 2: ROC_AUC = 0.6771, F1 = 0.4653\n",
            "  Fold 3: ROC_AUC = 0.6493, F1 = 0.4174\n",
            "  Fold 4: ROC_AUC = 0.6789, F1 = 0.4721\n",
            "  Fold 5: ROC_AUC = 0.6731, F1 = 0.4493\n",
            "🔹 Running 5-Fold CV for XGBoost ...\n"
          ]
        },
        {
          "output_type": "stream",
          "name": "stderr",
          "text": [
            "/usr/local/lib/python3.12/dist-packages/xgboost/training.py:183: UserWarning: [05:45:41] WARNING: /workspace/src/learner.cc:738: \n",
            "Parameters: { \"use_label_encoder\" } are not used.\n",
            "\n",
            "  bst.update(dtrain, iteration=i, fobj=obj)\n"
          ]
        },
        {
          "output_type": "stream",
          "name": "stdout",
          "text": [
            "  Fold 1: ROC_AUC = 0.6988, F1 = 0.4486\n"
          ]
        },
        {
          "output_type": "stream",
          "name": "stderr",
          "text": [
            "/usr/local/lib/python3.12/dist-packages/xgboost/training.py:183: UserWarning: [05:45:43] WARNING: /workspace/src/learner.cc:738: \n",
            "Parameters: { \"use_label_encoder\" } are not used.\n",
            "\n",
            "  bst.update(dtrain, iteration=i, fobj=obj)\n"
          ]
        },
        {
          "output_type": "stream",
          "name": "stdout",
          "text": [
            "  Fold 2: ROC_AUC = 0.7016, F1 = 0.4492\n"
          ]
        },
        {
          "output_type": "stream",
          "name": "stderr",
          "text": [
            "/usr/local/lib/python3.12/dist-packages/xgboost/training.py:183: UserWarning: [05:45:44] WARNING: /workspace/src/learner.cc:738: \n",
            "Parameters: { \"use_label_encoder\" } are not used.\n",
            "\n",
            "  bst.update(dtrain, iteration=i, fobj=obj)\n"
          ]
        },
        {
          "output_type": "stream",
          "name": "stdout",
          "text": [
            "  Fold 3: ROC_AUC = 0.6789, F1 = 0.4321\n"
          ]
        },
        {
          "output_type": "stream",
          "name": "stderr",
          "text": [
            "/usr/local/lib/python3.12/dist-packages/xgboost/training.py:183: UserWarning: [05:45:44] WARNING: /workspace/src/learner.cc:738: \n",
            "Parameters: { \"use_label_encoder\" } are not used.\n",
            "\n",
            "  bst.update(dtrain, iteration=i, fobj=obj)\n"
          ]
        },
        {
          "output_type": "stream",
          "name": "stdout",
          "text": [
            "  Fold 4: ROC_AUC = 0.7219, F1 = 0.4705\n"
          ]
        },
        {
          "output_type": "stream",
          "name": "stderr",
          "text": [
            "/usr/local/lib/python3.12/dist-packages/xgboost/training.py:183: UserWarning: [05:45:45] WARNING: /workspace/src/learner.cc:738: \n",
            "Parameters: { \"use_label_encoder\" } are not used.\n",
            "\n",
            "  bst.update(dtrain, iteration=i, fobj=obj)\n"
          ]
        },
        {
          "output_type": "stream",
          "name": "stdout",
          "text": [
            "  Fold 5: ROC_AUC = 0.7060, F1 = 0.4366\n",
            "🔹 Running 5-Fold CV for SVM ...\n",
            "  Fold 1: ROC_AUC = 0.6111, F1 = 0.4536\n",
            "  Fold 2: ROC_AUC = 0.6143, F1 = 0.4725\n",
            "  Fold 3: ROC_AUC = 0.6055, F1 = 0.4557\n",
            "  Fold 4: ROC_AUC = 0.6221, F1 = 0.4912\n",
            "  Fold 5: ROC_AUC = 0.6150, F1 = 0.4567\n",
            "\n",
            "🏁 Kết quả trung bình 5-fold (với SMOTE + SVM):\n",
            "                     accuracy  precision  recall      f1  roc_auc\n",
            "model                                                            \n",
            "Logistic Regression    0.6037     0.4564  0.3509  0.3965   0.5940\n",
            "Random Forest          0.6669     0.5818  0.3685  0.4509   0.6691\n",
            "XGBoost                0.6793     0.6216  0.3498  0.4474   0.7014\n",
            "SVM                    0.6086     0.4727  0.4605  0.4659   0.6136\n"
          ]
        }
      ]
    },
    {
      "cell_type": "markdown",
      "source": [
        "## Hyperparamenter Tuning"
      ],
      "metadata": {
        "id": "kTdJSU3_dZQ1"
      }
    },
    {
      "cell_type": "code",
      "source": [
        "# --- Mô hình cơ bản ---\n",
        "xgb = XGBClassifier(\n",
        "    random_state=42,\n",
        "    use_label_encoder=False,\n",
        "    eval_metric='logloss'\n",
        ")\n",
        "\n",
        "# --- Lưới tham số để fine-tune ---\n",
        "param_grid = {\n",
        "    'n_estimators': [100, 300, 500],\n",
        "    'max_depth': [3, 5, 7],\n",
        "    'learning_rate': [0.01, 0.05, 0.1],\n",
        "    'subsample': [0.7, 0.8, 1.0],\n",
        "    'colsample_bytree': [0.7, 0.8, 1.0],\n",
        "    'gamma': [0, 0.1, 0.3]\n",
        "}\n",
        "\n",
        "# --- GridSearchCV ---\n",
        "grid_search = GridSearchCV(\n",
        "    estimator=xgb,\n",
        "    param_grid=param_grid,\n",
        "    scoring='f1',\n",
        "    cv=5,\n",
        "    n_jobs=-1,\n",
        "    verbose=2\n",
        ")\n",
        "\n",
        "grid_search.fit(X_final, y_final)\n",
        "\n",
        "print(\"✅ Best parameters:\", grid_search.best_params_)\n",
        "print(\"🏆 Best F1 score:\", grid_search.best_score_)"
      ],
      "metadata": {
        "colab": {
          "base_uri": "https://localhost:8080/"
        },
        "id": "-9xThvPjJuen",
        "outputId": "dce5fc48-18b1-444d-878b-6ec605fff094"
      },
      "execution_count": null,
      "outputs": [
        {
          "output_type": "stream",
          "name": "stdout",
          "text": [
            "Fitting 5 folds for each of 729 candidates, totalling 3645 fits\n"
          ]
        },
        {
          "output_type": "stream",
          "name": "stderr",
          "text": [
            "/usr/local/lib/python3.12/dist-packages/xgboost/training.py:183: UserWarning: [06:18:48] WARNING: /workspace/src/learner.cc:738: \n",
            "Parameters: { \"use_label_encoder\" } are not used.\n",
            "\n",
            "  bst.update(dtrain, iteration=i, fobj=obj)\n"
          ]
        },
        {
          "output_type": "stream",
          "name": "stdout",
          "text": [
            "✅ Best parameters: {'colsample_bytree': 0.8, 'gamma': 0.3, 'learning_rate': 0.1, 'max_depth': 7, 'n_estimators': 500, 'subsample': 0.8}\n",
            "🏆 Best F1 score: 0.4717415664939333\n"
          ]
        }
      ]
    },
    {
      "cell_type": "code",
      "metadata": {
        "colab": {
          "base_uri": "https://localhost:8080/"
        },
        "id": "1358ef45",
        "outputId": "dabbd025-cb54-4fb0-bdd9-1393609ccb16"
      },
      "source": [
        "# Train the XGBoost model with the best parameters\n",
        "best_xgb_model = XGBClassifier(\n",
        "    colsample_bytree=0.8,\n",
        "    gamma=0.3,\n",
        "    learning_rate=0.1,\n",
        "    max_depth=7,\n",
        "    n_estimators=500,\n",
        "    subsample=0.8,\n",
        "    random_state=42,\n",
        "    use_label_encoder=False,\n",
        "    eval_metric='logloss'\n",
        ")\n",
        "\n",
        "# Evaluate the model (using cross-validation as done before for consistency)\n",
        "print(\"🔹 Running 5-Fold CV for the best XGBoost model with SMOTE...\")\n",
        "fold_scores = []\n",
        "\n",
        "# Initialize SMOTE\n",
        "smote = SMOTE(random_state=42)\n",
        "\n",
        "for fold, (train_idx, valid_idx) in enumerate(kf.split(X_final)):\n",
        "    X_train, X_valid = X_final.iloc[train_idx], X_final.iloc[valid_idx]\n",
        "    y_train, y_valid = y_final.iloc[train_idx], y_final.iloc[valid_idx]\n",
        "\n",
        "    # Apply SMOTE only on the training data\n",
        "    X_train_res, y_train_res = smote.fit_resample(X_train, y_train)\n",
        "\n",
        "    # Train on the SMOTE-augmented training fold and evaluate on the original validation fold\n",
        "    best_xgb_model.fit(X_train_res, y_train_res)\n",
        "    y_pred = best_xgb_model.predict(X_valid)\n",
        "    y_prob = best_xgb_model.predict_proba(X_valid)[:, 1]\n",
        "\n",
        "    scores = {\n",
        "        \"accuracy\": accuracy_score(y_valid, y_pred),\n",
        "        \"precision\": precision_score(y_valid, y_pred),\n",
        "        \"recall\": recall_score(y_valid, y_pred),\n",
        "        \"f1\": f1_score(y_valid, y_pred),\n",
        "        \"roc_auc\": roc_auc_score(y_valid, y_prob)\n",
        "    }\n",
        "    fold_scores.append(scores)\n",
        "    print(f\"  Fold {fold+1}: ROC_AUC = {scores['roc_auc']:.4f}, F1 = {scores['f1']:.4f}\")\n",
        "\n",
        "# Average the scores across all folds\n",
        "avg_scores = pd.DataFrame(fold_scores).mean().to_dict()\n",
        "print(\"\\n🏁 Average 5-fold results for the best XGBoost model with SMOTE:\")\n",
        "print(pd.DataFrame([avg_scores]).round(4))"
      ],
      "execution_count": null,
      "outputs": [
        {
          "output_type": "stream",
          "name": "stdout",
          "text": [
            "🔹 Running 5-Fold CV for the best XGBoost model with SMOTE...\n"
          ]
        },
        {
          "output_type": "stream",
          "name": "stderr",
          "text": [
            "/usr/local/lib/python3.12/dist-packages/xgboost/training.py:183: UserWarning: [07:54:51] WARNING: /workspace/src/learner.cc:738: \n",
            "Parameters: { \"use_label_encoder\" } are not used.\n",
            "\n",
            "  bst.update(dtrain, iteration=i, fobj=obj)\n"
          ]
        },
        {
          "output_type": "stream",
          "name": "stdout",
          "text": [
            "  Fold 1: ROC_AUC = 0.6790, F1 = 0.4909\n"
          ]
        },
        {
          "output_type": "stream",
          "name": "stderr",
          "text": [
            "/usr/local/lib/python3.12/dist-packages/xgboost/training.py:183: UserWarning: [07:54:53] WARNING: /workspace/src/learner.cc:738: \n",
            "Parameters: { \"use_label_encoder\" } are not used.\n",
            "\n",
            "  bst.update(dtrain, iteration=i, fobj=obj)\n"
          ]
        },
        {
          "output_type": "stream",
          "name": "stdout",
          "text": [
            "  Fold 2: ROC_AUC = 0.6879, F1 = 0.4852\n"
          ]
        },
        {
          "output_type": "stream",
          "name": "stderr",
          "text": [
            "/usr/local/lib/python3.12/dist-packages/xgboost/training.py:183: UserWarning: [07:54:54] WARNING: /workspace/src/learner.cc:738: \n",
            "Parameters: { \"use_label_encoder\" } are not used.\n",
            "\n",
            "  bst.update(dtrain, iteration=i, fobj=obj)\n"
          ]
        },
        {
          "output_type": "stream",
          "name": "stdout",
          "text": [
            "  Fold 3: ROC_AUC = 0.6590, F1 = 0.4684\n"
          ]
        },
        {
          "output_type": "stream",
          "name": "stderr",
          "text": [
            "/usr/local/lib/python3.12/dist-packages/xgboost/training.py:183: UserWarning: [07:54:55] WARNING: /workspace/src/learner.cc:738: \n",
            "Parameters: { \"use_label_encoder\" } are not used.\n",
            "\n",
            "  bst.update(dtrain, iteration=i, fobj=obj)\n"
          ]
        },
        {
          "output_type": "stream",
          "name": "stdout",
          "text": [
            "  Fold 4: ROC_AUC = 0.7060, F1 = 0.5225\n"
          ]
        },
        {
          "output_type": "stream",
          "name": "stderr",
          "text": [
            "/usr/local/lib/python3.12/dist-packages/xgboost/training.py:183: UserWarning: [07:54:57] WARNING: /workspace/src/learner.cc:738: \n",
            "Parameters: { \"use_label_encoder\" } are not used.\n",
            "\n",
            "  bst.update(dtrain, iteration=i, fobj=obj)\n"
          ]
        },
        {
          "output_type": "stream",
          "name": "stdout",
          "text": [
            "  Fold 5: ROC_AUC = 0.7043, F1 = 0.5076\n",
            "\n",
            "🏁 Average 5-fold results for the best XGBoost model with SMOTE:\n",
            "   accuracy  precision  recall      f1  roc_auc\n",
            "0    0.6612     0.5549   0.447  0.4949   0.6872\n"
          ]
        }
      ]
    },
    {
      "cell_type": "markdown",
      "source": [
        "## Get feature importance"
      ],
      "metadata": {
        "id": "K6N0gGACdf3N"
      }
    },
    {
      "cell_type": "code",
      "source": [
        "# Lấy importance scores từ mô hình sau cùng (đã train trong vòng lặp)\n",
        "importance = best_xgb_model.get_booster().get_score(importance_type='gain')\n",
        "\n",
        "# Chuyển sang DataFrame để dễ quan sát\n",
        "importance_df = pd.DataFrame({\n",
        "    'Feature': list(importance.keys()),\n",
        "    'Importance': list(importance.values())\n",
        "}).sort_values(by='Importance', ascending=False)\n",
        "\n",
        "# Hiển thị top 20 feature quan trọng nhất\n",
        "plt.figure(figsize=(10, 8))\n",
        "sns.barplot(data=importance_df, x='Importance', y='Feature', palette='viridis')\n",
        "plt.title('Feature Importance (XGBoost - Gain)', fontsize=14)\n",
        "plt.xlabel('Importance (Gain)')\n",
        "plt.ylabel('Feature')\n",
        "plt.tight_layout()\n",
        "plt.show()\n",
        "\n",
        "# In toàn bộ danh sách feature importance (tùy chọn)\n",
        "print(\"\\n📋 Top 20 features ảnh hưởng mạnh nhất đến churn:\")\n",
        "print(importance_df)"
      ],
      "metadata": {
        "colab": {
          "base_uri": "https://localhost:8080/",
          "height": 1000
        },
        "id": "YcRftEzyP_mq",
        "outputId": "5977589f-361b-4016-b142-fe0931f8c5e0"
      },
      "execution_count": null,
      "outputs": [
        {
          "output_type": "stream",
          "name": "stderr",
          "text": [
            "/tmp/ipython-input-1737477822.py:12: FutureWarning: \n",
            "\n",
            "Passing `palette` without assigning `hue` is deprecated and will be removed in v0.14.0. Assign the `y` variable to `hue` and set `legend=False` for the same effect.\n",
            "\n",
            "  sns.barplot(data=importance_df, x='Importance', y='Feature', palette='viridis')\n"
          ]
        },
        {
          "output_type": "display_data",
          "data": {
            "text/plain": [
              "<Figure size 1000x800 with 1 Axes>"
            ],
            "image/png": "[encoded data removed]"
          },
          "metadata": {}
        },
        {
          "output_type": "stream",
          "name": "stdout",
          "text": [
            "\n",
            "📋 Top 20 features ảnh hưởng mạnh nhất đến churn:\n",
            "            Feature  Importance\n",
            "3         Attribute   18.518656\n",
            "0            Gender    5.733407\n",
            "1   OccupationGroup    2.957462\n",
            "2    CompanionGroup    2.601267\n",
            "4    DayOfWeek_mode    2.351748\n",
            "5      DayPart_mode    2.343934\n",
            "10   VisitFreq_mean    1.786088\n",
            "9          Spending    1.745259\n",
            "6               MPI    1.516034\n",
            "7         GroupSize    1.489848\n",
            "8               Age    1.451023\n"
          ]
        }
      ]
    },
    {
      "cell_type": "code",
      "source": [],
      "metadata": {
        "id": "Mid7OQyDrbBi"
      },
      "execution_count": null,
      "outputs": []
    }
  ]
}